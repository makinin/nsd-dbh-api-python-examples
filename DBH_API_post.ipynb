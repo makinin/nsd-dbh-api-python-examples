{
 "cells": [
  {
   "cell_type": "markdown",
   "metadata": {},
   "source": [
    "# Post request "
   ]
  },
  {
   "cell_type": "markdown",
   "metadata": {},
   "source": [
    "Import requests, io, pandas and matplotlib"
   ]
  },
  {
   "cell_type": "code",
   "execution_count": 1,
   "metadata": {},
   "outputs": [],
   "source": [
    "import requests\n",
    "import io\n",
    "import matplotlib.pyplot as plt\n",
    "import pandas as pd"
   ]
  },
  {
   "cell_type": "code",
   "execution_count": 2,
   "metadata": {},
   "outputs": [],
   "source": [
    "url = \"https://api.nsd.no/dbhapitjener/Tabeller/hentCSVTabellData\"\n",
    "\n",
    "query = {\"tabell_id\":123,\"api_versjon\":1,\"statuslinje\":\"N\",\"kodetekst\":\"J\",\"desimal_separator\":\".\",\n",
    "\"groupBy\":[ \"Årstall\",  \"Prosent egenfinansiering\"],\n",
    "\"sortBy\":[\"Årstall\"],\n",
    "\"filter\":[\n",
    "   {\n",
    "      \"variabel\": \"Semester\",\n",
    "      \"selection\": {\n",
    "         \"filter\": \"item\",\n",
    "         \"values\": [\n",
    "            \"3\"\n",
    "         ],\n",
    "         \"exclude\": [\n",
    "            \"\"\n",
    "         ]\n",
    "      }\n",
    "   },\n",
    "   {\n",
    "      \"variabel\": \"Nivåkode\",\n",
    "      \"selection\": {\n",
    "         \"filter\": \"all\",\n",
    "         \"values\": [\n",
    "            \"*\"\n",
    "         ],\n",
    "         \"exclude\": [\n",
    "            \"FU\", \"VS\"\n",
    "         ]\n",
    "      }\n",
    "   },\n",
    "   {\n",
    "      \"variabel\": \"Årstall\",\n",
    "      \"selection\": {\n",
    "         \"filter\": \"top\",\n",
    "         \"values\": [\n",
    "            \"10\"\n",
    "         ],\n",
    "         \"exclude\": [\n",
    "            \"\"\n",
    "         ]\n",
    "      } },\n",
    "      {\n",
    "      \"variabel\": \"Studentkategori\",\n",
    "      \"selection\": {\n",
    "         \"filter\": \"item\",\n",
    "         \"values\": [\n",
    "            \"S\",\"A\"\n",
    "         ],\n",
    "         \"exclude\": [\n",
    "            \"\"\n",
    "         ]\n",
    "      }\n",
    "   }\n",
    "]} \n",
    "res = requests.post(url, json = query)\n",
    "content = res.content\n",
    "df = pd.read_csv(io.StringIO(content.decode('utf-8')), sep = ';')"
   ]
  },
  {
   "cell_type": "code",
   "execution_count": 3,
   "metadata": {},
   "outputs": [
    {
     "name": "stdout",
     "output_type": "stream",
     "text": [
      "<class 'pandas.core.frame.DataFrame'>\n",
      "RangeIndex: 523 entries, 0 to 522\n",
      "Data columns (total 5 columns):\n",
      "Årstall                     523 non-null int64\n",
      "Prosent egenfinansiering    523 non-null float64\n",
      "Antall totalt               523 non-null int64\n",
      "Antall kvinner              523 non-null int64\n",
      "Antall menn                 523 non-null int64\n",
      "dtypes: float64(1), int64(4)\n",
      "memory usage: 20.6 KB\n"
     ]
    }
   ],
   "source": [
    "df.info()"
   ]
  },
  {
   "cell_type": "code",
   "execution_count": 4,
   "metadata": {},
   "outputs": [
    {
     "data": {
      "text/plain": [
       "(523, 5)"
      ]
     },
     "execution_count": 4,
     "metadata": {},
     "output_type": "execute_result"
    }
   ],
   "source": [
    "df.shape"
   ]
  },
  {
   "cell_type": "code",
   "execution_count": 5,
   "metadata": {},
   "outputs": [
    {
     "data": {
      "text/html": [
       "<div>\n",
       "<style scoped>\n",
       "    .dataframe tbody tr th:only-of-type {\n",
       "        vertical-align: middle;\n",
       "    }\n",
       "\n",
       "    .dataframe tbody tr th {\n",
       "        vertical-align: top;\n",
       "    }\n",
       "\n",
       "    .dataframe thead th {\n",
       "        text-align: right;\n",
       "    }\n",
       "</style>\n",
       "<table border=\"1\" class=\"dataframe\">\n",
       "  <thead>\n",
       "    <tr style=\"text-align: right;\">\n",
       "      <th></th>\n",
       "      <th>Årstall</th>\n",
       "      <th>Prosent egenfinansiering</th>\n",
       "      <th>Antall totalt</th>\n",
       "      <th>Antall kvinner</th>\n",
       "      <th>Antall menn</th>\n",
       "    </tr>\n",
       "  </thead>\n",
       "  <tbody>\n",
       "    <tr>\n",
       "      <td>0</td>\n",
       "      <td>2010</td>\n",
       "      <td>0.0</td>\n",
       "      <td>8677</td>\n",
       "      <td>5997</td>\n",
       "      <td>2680</td>\n",
       "    </tr>\n",
       "    <tr>\n",
       "      <td>1</td>\n",
       "      <td>2010</td>\n",
       "      <td>3.0</td>\n",
       "      <td>44</td>\n",
       "      <td>37</td>\n",
       "      <td>7</td>\n",
       "    </tr>\n",
       "    <tr>\n",
       "      <td>2</td>\n",
       "      <td>2010</td>\n",
       "      <td>9.0</td>\n",
       "      <td>118</td>\n",
       "      <td>92</td>\n",
       "      <td>26</td>\n",
       "    </tr>\n",
       "    <tr>\n",
       "      <td>3</td>\n",
       "      <td>2010</td>\n",
       "      <td>10.0</td>\n",
       "      <td>197</td>\n",
       "      <td>106</td>\n",
       "      <td>91</td>\n",
       "    </tr>\n",
       "    <tr>\n",
       "      <td>4</td>\n",
       "      <td>2010</td>\n",
       "      <td>13.0</td>\n",
       "      <td>21</td>\n",
       "      <td>0</td>\n",
       "      <td>0</td>\n",
       "    </tr>\n",
       "  </tbody>\n",
       "</table>\n",
       "</div>"
      ],
      "text/plain": [
       "   Årstall  Prosent egenfinansiering  Antall totalt  Antall kvinner  \\\n",
       "0     2010                       0.0           8677            5997   \n",
       "1     2010                       3.0             44              37   \n",
       "2     2010                       9.0            118              92   \n",
       "3     2010                      10.0            197             106   \n",
       "4     2010                      13.0             21               0   \n",
       "\n",
       "   Antall menn  \n",
       "0         2680  \n",
       "1            7  \n",
       "2           26  \n",
       "3           91  \n",
       "4            0  "
      ]
     },
     "execution_count": 5,
     "metadata": {},
     "output_type": "execute_result"
    }
   ],
   "source": [
    "df.head()"
   ]
  },
  {
   "cell_type": "markdown",
   "metadata": {},
   "source": [
    "Defining two new columns"
   ]
  },
  {
   "cell_type": "code",
   "execution_count": 6,
   "metadata": {},
   "outputs": [],
   "source": [
    " df['Kvinner'] = df['Antall kvinner']*df['Prosent egenfinansiering']/100\n",
    "df['Menn'] = df['Antall menn']*df['Prosent egenfinansiering']/100"
   ]
  },
  {
   "cell_type": "markdown",
   "metadata": {},
   "source": [
    "Group data by year and agregate by gender"
   ]
  },
  {
   "cell_type": "code",
   "execution_count": 7,
   "metadata": {},
   "outputs": [],
   "source": [
    "df = df.groupby(['Årstall'])['Kvinner','Menn'].sum().reset_index()"
   ]
  },
  {
   "cell_type": "markdown",
   "metadata": {},
   "source": [
    "Plot line diagram "
   ]
  },
  {
   "cell_type": "code",
   "execution_count": 8,
   "metadata": {},
   "outputs": [
    {
     "data": {
      "image/png": "[encoded data removed]",
      "text/plain": [
       "<Figure size 432x288 with 1 Axes>"
      ]
     },
     "metadata": {
      "needs_background": "light"
     },
     "output_type": "display_data"
    }
   ],
   "source": [
    "plt.plot(df['Årstall'].tolist(), df['Kvinner'].tolist(), color = \"#6c3376\")\n",
    "\n",
    "\n",
    "plt.plot(df['Årstall'].tolist(), df['Menn'].tolist(),  color = \"#f3e151\")\n",
    "\n",
    "plt.xlabel('Årstall')  \n",
    "plt.ylabel('Utviklingen i antall studenter 2009–19')\n",
    "\n",
    "plt.show()"
   ]
  },
  {
   "cell_type": "code",
   "execution_count": null,
   "metadata": {},
   "outputs": [],
   "source": []
  }
 ],
 "metadata": {
  "kernelspec": {
   "display_name": "Python 3",
   "language": "python",
   "name": "python3"
  },
  "language_info": {
   "codemirror_mode": {
    "name": "ipython",
    "version": 3
   },
   "file_extension": ".py",
   "mimetype": "text/x-python",
   "name": "python",
   "nbconvert_exporter": "python",
   "pygments_lexer": "ipython3",
   "version": "3.7.4"
  }
 },
 "nbformat": 4,
 "nbformat_minor": 2
}
