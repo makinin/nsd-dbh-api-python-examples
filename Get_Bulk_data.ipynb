{
 "cells": [
  {
   "cell_type": "markdown",
   "metadata": {},
   "source": [
    "# Get the whole table from bulk data in CSV format"
   ]
  },
  {
   "cell_type": "markdown",
   "metadata": {},
   "source": [
    "Import pandas and matplotlib"
   ]
  },
  {
   "cell_type": "code",
   "execution_count": 1,
   "metadata": {},
   "outputs": [],
   "source": [
    "import pandas as pd\n",
    "import matplotlib.pyplot as plt"
   ]
  },
  {
   "cell_type": "markdown",
   "metadata": {},
   "source": [
    "Imort table 101 \"Avlagte doktorgrader aggregert\""
   ]
  },
  {
   "cell_type": "code",
   "execution_count": 2,
   "metadata": {},
   "outputs": [],
   "source": [
    "df = pd.read_csv(\"https://api.nsd.no/dbhapitjener/Tabeller/bulk-csv?rptNr=101\", sep=',')"
   ]
  },
  {
   "cell_type": "markdown",
   "metadata": {},
   "source": [
    "Information about dataframe"
   ]
  },
  {
   "cell_type": "code",
   "execution_count": 3,
   "metadata": {},
   "outputs": [
    {
     "name": "stdout",
     "output_type": "stream",
     "text": [
      "<class 'pandas.core.frame.DataFrame'>\n",
      "RangeIndex: 12529 entries, 0 to 12528\n",
      "Data columns (total 15 columns):\n",
      "Institusjonskode          12529 non-null int64\n",
      "Institusjonsnavn          12529 non-null object\n",
      "Avdelingskode             12529 non-null int64\n",
      "Avdelingsnavn             12529 non-null object\n",
      "Årstall                   12529 non-null int64\n",
      "Semester                  12529 non-null int64\n",
      "Semesternavn              12529 non-null object\n",
      "Kvalifikasjonskode        12529 non-null object\n",
      "Studieprogramkode         12529 non-null object\n",
      "Programnavn               12529 non-null object\n",
      "Finansieringskildekode    12529 non-null object\n",
      "Finasieringskilde         12529 non-null object\n",
      "Antall totalt             12529 non-null int64\n",
      "Antall kvinner            12529 non-null int64\n",
      "Antall menn               12529 non-null int64\n",
      "dtypes: int64(7), object(8)\n",
      "memory usage: 1.4+ MB\n"
     ]
    }
   ],
   "source": [
    "df.info()"
   ]
  },
  {
   "cell_type": "markdown",
   "metadata": {},
   "source": [
    "Number of rows and columns"
   ]
  },
  {
   "cell_type": "code",
   "execution_count": 5,
   "metadata": {},
   "outputs": [
    {
     "data": {
      "text/plain": [
       "(12529, 15)"
      ]
     },
     "execution_count": 5,
     "metadata": {},
     "output_type": "execute_result"
    }
   ],
   "source": [
    "df.shape"
   ]
  },
  {
   "cell_type": "markdown",
   "metadata": {},
   "source": [
    "Top of dataset"
   ]
  },
  {
   "cell_type": "code",
   "execution_count": 6,
   "metadata": {},
   "outputs": [
    {
     "data": {
      "text/html": [
       "<div>\n",
       "<style scoped>\n",
       "    .dataframe tbody tr th:only-of-type {\n",
       "        vertical-align: middle;\n",
       "    }\n",
       "\n",
       "    .dataframe tbody tr th {\n",
       "        vertical-align: top;\n",
       "    }\n",
       "\n",
       "    .dataframe thead th {\n",
       "        text-align: right;\n",
       "    }\n",
       "</style>\n",
       "<table border=\"1\" class=\"dataframe\">\n",
       "  <thead>\n",
       "    <tr style=\"text-align: right;\">\n",
       "      <th></th>\n",
       "      <th>Institusjonskode</th>\n",
       "      <th>Institusjonsnavn</th>\n",
       "      <th>Avdelingskode</th>\n",
       "      <th>Avdelingsnavn</th>\n",
       "      <th>Årstall</th>\n",
       "      <th>Semester</th>\n",
       "      <th>Semesternavn</th>\n",
       "      <th>Kvalifikasjonskode</th>\n",
       "      <th>Studieprogramkode</th>\n",
       "      <th>Programnavn</th>\n",
       "      <th>Finansieringskildekode</th>\n",
       "      <th>Finasieringskilde</th>\n",
       "      <th>Antall totalt</th>\n",
       "      <th>Antall kvinner</th>\n",
       "      <th>Antall menn</th>\n",
       "    </tr>\n",
       "  </thead>\n",
       "  <tbody>\n",
       "    <tr>\n",
       "      <td>0</td>\n",
       "      <td>211</td>\n",
       "      <td>Høgskolen i Bodø</td>\n",
       "      <td>0</td>\n",
       "      <td>HiBo (uspesifisert underenhet)</td>\n",
       "      <td>2003</td>\n",
       "      <td>3</td>\n",
       "      <td>Vinter</td>\n",
       "      <td>DRBEDØK</td>\n",
       "      <td>DRGE</td>\n",
       "      <td>Fire-årig allmenlærerutdanning</td>\n",
       "      <td>EGEN</td>\n",
       "      <td>Andre eksternfinansierte</td>\n",
       "      <td>1</td>\n",
       "      <td>0</td>\n",
       "      <td>1</td>\n",
       "    </tr>\n",
       "    <tr>\n",
       "      <td>1</td>\n",
       "      <td>211</td>\n",
       "      <td>Høgskolen i Bodø</td>\n",
       "      <td>0</td>\n",
       "      <td>HiBo (uspesifisert underenhet)</td>\n",
       "      <td>2005</td>\n",
       "      <td>1</td>\n",
       "      <td>Vinter</td>\n",
       "      <td>DRBEDØK</td>\n",
       "      <td>DRGE</td>\n",
       "      <td>Fire-årig allmenlærerutdanning</td>\n",
       "      <td>EGEN</td>\n",
       "      <td>Andre eksternfinansierte</td>\n",
       "      <td>1</td>\n",
       "      <td>0</td>\n",
       "      <td>1</td>\n",
       "    </tr>\n",
       "    <tr>\n",
       "      <td>2</td>\n",
       "      <td>211</td>\n",
       "      <td>Høgskolen i Bodø</td>\n",
       "      <td>0</td>\n",
       "      <td>HiBo (uspesifisert underenhet)</td>\n",
       "      <td>2005</td>\n",
       "      <td>1</td>\n",
       "      <td>Vinter</td>\n",
       "      <td>DRGSOS</td>\n",
       "      <td>DRGE</td>\n",
       "      <td>Fire-årig allmenlærerutdanning</td>\n",
       "      <td>ANDRE</td>\n",
       "      <td>Andre eksternfinansierte</td>\n",
       "      <td>1</td>\n",
       "      <td>0</td>\n",
       "      <td>1</td>\n",
       "    </tr>\n",
       "    <tr>\n",
       "      <td>3</td>\n",
       "      <td>211</td>\n",
       "      <td>Høgskolen i Bodø</td>\n",
       "      <td>0</td>\n",
       "      <td>HiBo (uspesifisert underenhet)</td>\n",
       "      <td>2005</td>\n",
       "      <td>3</td>\n",
       "      <td>Vinter</td>\n",
       "      <td>DRBEDØK</td>\n",
       "      <td>DRGE</td>\n",
       "      <td>Fire-årig allmenlærerutdanning</td>\n",
       "      <td>ANDRE</td>\n",
       "      <td>Andre eksternfinansierte</td>\n",
       "      <td>1</td>\n",
       "      <td>0</td>\n",
       "      <td>1</td>\n",
       "    </tr>\n",
       "    <tr>\n",
       "      <td>4</td>\n",
       "      <td>211</td>\n",
       "      <td>Høgskolen i Bodø</td>\n",
       "      <td>0</td>\n",
       "      <td>HiBo (uspesifisert underenhet)</td>\n",
       "      <td>2005</td>\n",
       "      <td>3</td>\n",
       "      <td>Vinter</td>\n",
       "      <td>DRBEDØK</td>\n",
       "      <td>DRGE</td>\n",
       "      <td>Fire-årig allmenlærerutdanning</td>\n",
       "      <td>EGEN</td>\n",
       "      <td>Andre eksternfinansierte</td>\n",
       "      <td>1</td>\n",
       "      <td>0</td>\n",
       "      <td>1</td>\n",
       "    </tr>\n",
       "  </tbody>\n",
       "</table>\n",
       "</div>"
      ],
      "text/plain": [
       "   Institusjonskode  Institusjonsnavn  Avdelingskode  \\\n",
       "0               211  Høgskolen i Bodø              0   \n",
       "1               211  Høgskolen i Bodø              0   \n",
       "2               211  Høgskolen i Bodø              0   \n",
       "3               211  Høgskolen i Bodø              0   \n",
       "4               211  Høgskolen i Bodø              0   \n",
       "\n",
       "                    Avdelingsnavn  Årstall  Semester Semesternavn  \\\n",
       "0  HiBo (uspesifisert underenhet)     2003         3       Vinter   \n",
       "1  HiBo (uspesifisert underenhet)     2005         1       Vinter   \n",
       "2  HiBo (uspesifisert underenhet)     2005         1       Vinter   \n",
       "3  HiBo (uspesifisert underenhet)     2005         3       Vinter   \n",
       "4  HiBo (uspesifisert underenhet)     2005         3       Vinter   \n",
       "\n",
       "     Kvalifikasjonskode Studieprogramkode                     Programnavn  \\\n",
       "0  DRBEDØK                   DRGE          Fire-årig allmenlærerutdanning   \n",
       "1  DRBEDØK                   DRGE          Fire-årig allmenlærerutdanning   \n",
       "2  DRGSOS                    DRGE          Fire-årig allmenlærerutdanning   \n",
       "3  DRBEDØK                   DRGE          Fire-årig allmenlærerutdanning   \n",
       "4  DRBEDØK                   DRGE          Fire-årig allmenlærerutdanning   \n",
       "\n",
       "  Finansieringskildekode         Finasieringskilde  Antall totalt  \\\n",
       "0             EGEN        Andre eksternfinansierte              1   \n",
       "1             EGEN        Andre eksternfinansierte              1   \n",
       "2             ANDRE       Andre eksternfinansierte              1   \n",
       "3             ANDRE       Andre eksternfinansierte              1   \n",
       "4             EGEN        Andre eksternfinansierte              1   \n",
       "\n",
       "   Antall kvinner  Antall menn  \n",
       "0               0            1  \n",
       "1               0            1  \n",
       "2               0            1  \n",
       "3               0            1  \n",
       "4               0            1  "
      ]
     },
     "execution_count": 6,
     "metadata": {},
     "output_type": "execute_result"
    }
   ],
   "source": [
    "df.head()"
   ]
  },
  {
   "cell_type": "markdown",
   "metadata": {},
   "source": [
    "Stacked bar "
   ]
  },
  {
   "cell_type": "code",
   "execution_count": 7,
   "metadata": {},
   "outputs": [
    {
     "data": {
      "image/png": "[encoded data removed]",
      "text/plain": [
       "<Figure size 432x288 with 1 Axes>"
      ]
     },
     "metadata": {
      "needs_background": "light"
     },
     "output_type": "display_data"
    }
   ],
   "source": [
    "df_group = df.groupby(['Årstall'])['Antall kvinner','Antall menn'].sum().reset_index()\n",
    "df_filter = df_group[df_group['Årstall'] >= 2009]\n",
    "plt.bar(df_filter['Årstall'].tolist(), df_filter['Antall kvinner'].tolist(), color = \"#6c3376\")\n",
    "\n",
    "# the second one is special to create stacked bar plots\n",
    "plt.bar(df_filter['Årstall'].tolist(), df_filter['Antall menn'].tolist(),\n",
    "bottom=df_filter['Antall kvinner'].tolist(), color = \"#f3e151\")\n",
    "\n",
    "plt.xlabel('Årstall')  \n",
    "plt.ylabel('Avlagte doktorgrader 2009-19. Antall')\n",
    "\n",
    "plt.show() "
   ]
  },
  {
   "cell_type": "code",
   "execution_count": null,
   "metadata": {},
   "outputs": [],
   "source": []
  }
 ],
 "metadata": {
  "kernelspec": {
   "display_name": "Python 3",
   "language": "python",
   "name": "python3"
  },
  "language_info": {
   "codemirror_mode": {
    "name": "ipython",
    "version": 3
   },
   "file_extension": ".py",
   "mimetype": "text/x-python",
   "name": "python",
   "nbconvert_exporter": "python",
   "pygments_lexer": "ipython3",
   "version": "3.7.4"
  }
 },
 "nbformat": 4,
 "nbformat_minor": 2
}
