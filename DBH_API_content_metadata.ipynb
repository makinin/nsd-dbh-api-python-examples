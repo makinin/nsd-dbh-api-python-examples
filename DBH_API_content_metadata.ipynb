{
 "cells": [
  {
   "cell_type": "markdown",
   "metadata": {},
   "source": [
    "# DBH-API contents and metadata"
   ]
  },
  {
   "cell_type": "markdown",
   "metadata": {},
   "source": [
    "Import Pyton pandas"
   ]
  },
  {
   "cell_type": "code",
   "execution_count": 9,
   "metadata": {},
   "outputs": [],
   "source": [
    "import pandas as pd"
   ]
  },
  {
   "cell_type": "markdown",
   "metadata": {},
   "source": [
    "Get content from the API and put it in data frame."
   ]
  },
  {
   "cell_type": "code",
   "execution_count": 11,
   "metadata": {},
   "outputs": [],
   "source": [
    "df = pd.read_csv(\"https://api.nsd.no/dbhapitjener/Tabeller/bulk-csv?rptNr=001\", sep=',')"
   ]
  },
  {
   "cell_type": "markdown",
   "metadata": {},
   "source": [
    "Information about data set"
   ]
  },
  {
   "cell_type": "code",
   "execution_count": 6,
   "metadata": {},
   "outputs": [
    {
     "name": "stdout",
     "output_type": "stream",
     "text": [
      "<class 'pandas.core.frame.DataFrame'>\n",
      "RangeIndex: 98 entries, 0 to 97\n",
      "Data columns (total 5 columns):\n",
      "Emne             98 non-null object\n",
      "Tabell id        98 non-null int64\n",
      "Tabellnavn       98 non-null object\n",
      "Bulk tabell      98 non-null bool\n",
      "Variabelliste    98 non-null object\n",
      "dtypes: bool(1), int64(1), object(3)\n",
      "memory usage: 3.3+ KB\n"
     ]
    }
   ],
   "source": [
    "df.info()"
   ]
  },
  {
   "cell_type": "markdown",
   "metadata": {},
   "source": [
    "Shape give us number of rows and columns"
   ]
  },
  {
   "cell_type": "code",
   "execution_count": 12,
   "metadata": {},
   "outputs": [
    {
     "data": {
      "text/plain": [
       "(98, 5)"
      ]
     },
     "execution_count": 12,
     "metadata": {},
     "output_type": "execute_result"
    }
   ],
   "source": [
    "df.shape"
   ]
  },
  {
   "cell_type": "markdown",
   "metadata": {},
   "source": [
    "The top of dataset"
   ]
  },
  {
   "cell_type": "code",
   "execution_count": 8,
   "metadata": {},
   "outputs": [
    {
     "data": {
      "text/html": [
       "<div>\n",
       "<style scoped>\n",
       "    .dataframe tbody tr th:only-of-type {\n",
       "        vertical-align: middle;\n",
       "    }\n",
       "\n",
       "    .dataframe tbody tr th {\n",
       "        vertical-align: top;\n",
       "    }\n",
       "\n",
       "    .dataframe thead th {\n",
       "        text-align: right;\n",
       "    }\n",
       "</style>\n",
       "<table border=\"1\" class=\"dataframe\">\n",
       "  <thead>\n",
       "    <tr style=\"text-align: right;\">\n",
       "      <th></th>\n",
       "      <th>Emne</th>\n",
       "      <th>Tabell id</th>\n",
       "      <th>Tabellnavn</th>\n",
       "      <th>Bulk tabell</th>\n",
       "      <th>Variabelliste</th>\n",
       "    </tr>\n",
       "  </thead>\n",
       "  <tbody>\n",
       "    <tr>\n",
       "      <td>0</td>\n",
       "      <td>Ikke tilordnet emne</td>\n",
       "      <td>1</td>\n",
       "      <td>API innhold</td>\n",
       "      <td>True</td>\n",
       "      <td>Emne,Tabell id,Tabellnavn,Bulk tabell,Variabel...</td>\n",
       "    </tr>\n",
       "    <tr>\n",
       "      <td>1</td>\n",
       "      <td>Ikke tilordnet emne</td>\n",
       "      <td>2</td>\n",
       "      <td>API metadata</td>\n",
       "      <td>True</td>\n",
       "      <td>Tabell id,Tabellnavn,Variabel navn,Datatype,Da...</td>\n",
       "    </tr>\n",
       "    <tr>\n",
       "      <td>2</td>\n",
       "      <td>Studentdata</td>\n",
       "      <td>60</td>\n",
       "      <td>Studenter fordelt på alder</td>\n",
       "      <td>False</td>\n",
       "      <td>Institusjonskode,Avdelingskode,Årstall,Semeste...</td>\n",
       "    </tr>\n",
       "    <tr>\n",
       "      <td>3</td>\n",
       "      <td>Studentdata</td>\n",
       "      <td>62</td>\n",
       "      <td>Utvekslingsavtaler</td>\n",
       "      <td>False</td>\n",
       "      <td>Utvekslingsavtale,beskrivelse,Sort</td>\n",
       "    </tr>\n",
       "    <tr>\n",
       "      <td>4</td>\n",
       "      <td>Studentdata</td>\n",
       "      <td>66</td>\n",
       "      <td>Desentralisering og fjernundervisning</td>\n",
       "      <td>False</td>\n",
       "      <td>Årstall,Institusjonskode,Avdelingskode,Opptaks...</td>\n",
       "    </tr>\n",
       "  </tbody>\n",
       "</table>\n",
       "</div>"
      ],
      "text/plain": [
       "                               Emne  Tabell id  \\\n",
       "0  Ikke tilordnet emne                       1   \n",
       "1  Ikke tilordnet emne                       2   \n",
       "2                       Studentdata         60   \n",
       "3                       Studentdata         62   \n",
       "4                       Studentdata         66   \n",
       "\n",
       "                              Tabellnavn  Bulk tabell  \\\n",
       "0                            API innhold         True   \n",
       "1                           API metadata         True   \n",
       "2             Studenter fordelt på alder        False   \n",
       "3                     Utvekslingsavtaler        False   \n",
       "4  Desentralisering og fjernundervisning        False   \n",
       "\n",
       "                                       Variabelliste  \n",
       "0  Emne,Tabell id,Tabellnavn,Bulk tabell,Variabel...  \n",
       "1  Tabell id,Tabellnavn,Variabel navn,Datatype,Da...  \n",
       "2  Institusjonskode,Avdelingskode,Årstall,Semeste...  \n",
       "3                 Utvekslingsavtale,beskrivelse,Sort  \n",
       "4  Årstall,Institusjonskode,Avdelingskode,Opptaks...  "
      ]
     },
     "execution_count": 8,
     "metadata": {},
     "output_type": "execute_result"
    }
   ],
   "source": [
    "df.head()"
   ]
  },
  {
   "cell_type": "markdown",
   "metadata": {},
   "source": [
    "Get API metadata and put in dataframe"
   ]
  },
  {
   "cell_type": "code",
   "execution_count": 7,
   "metadata": {},
   "outputs": [],
   "source": [
    "metadata = pd.read_csv(\"https://api.nsd.no/dbhapitjener/Tabeller/bulk-csv?rptNr=002\",  sep=',')"
   ]
  },
  {
   "cell_type": "markdown",
   "metadata": {},
   "source": [
    "Top of metadata dataset"
   ]
  },
  {
   "cell_type": "code",
   "execution_count": 8,
   "metadata": {},
   "outputs": [
    {
     "data": {
      "text/html": [
       "<div>\n",
       "<style scoped>\n",
       "    .dataframe tbody tr th:only-of-type {\n",
       "        vertical-align: middle;\n",
       "    }\n",
       "\n",
       "    .dataframe tbody tr th {\n",
       "        vertical-align: top;\n",
       "    }\n",
       "\n",
       "    .dataframe thead th {\n",
       "        text-align: right;\n",
       "    }\n",
       "</style>\n",
       "<table border=\"1\" class=\"dataframe\">\n",
       "  <thead>\n",
       "    <tr style=\"text-align: right;\">\n",
       "      <th></th>\n",
       "      <th>Tabell id</th>\n",
       "      <th>Tabellnavn</th>\n",
       "      <th>Variabel navn</th>\n",
       "      <th>Datatype</th>\n",
       "      <th>Datalengde</th>\n",
       "      <th>Sortering</th>\n",
       "      <th>Kodefelt</th>\n",
       "      <th>Group by (forslag)</th>\n",
       "      <th>Kommentar</th>\n",
       "    </tr>\n",
       "  </thead>\n",
       "  <tbody>\n",
       "    <tr>\n",
       "      <td>0</td>\n",
       "      <td>60</td>\n",
       "      <td>Studenter fordelt på alder</td>\n",
       "      <td>Alder</td>\n",
       "      <td>int</td>\n",
       "      <td>NaN</td>\n",
       "      <td>6.0</td>\n",
       "      <td></td>\n",
       "      <td></td>\n",
       "      <td>NaN</td>\n",
       "    </tr>\n",
       "    <tr>\n",
       "      <td>1</td>\n",
       "      <td>60</td>\n",
       "      <td>Studenter fordelt på alder</td>\n",
       "      <td>Andel av heltid</td>\n",
       "      <td>decimal</td>\n",
       "      <td>3,2</td>\n",
       "      <td>34.0</td>\n",
       "      <td></td>\n",
       "      <td>J</td>\n",
       "      <td>NaN</td>\n",
       "    </tr>\n",
       "    <tr>\n",
       "      <td>2</td>\n",
       "      <td>60</td>\n",
       "      <td>Studenter fordelt på alder</td>\n",
       "      <td>Andel praksis</td>\n",
       "      <td>float</td>\n",
       "      <td>NaN</td>\n",
       "      <td>39.0</td>\n",
       "      <td></td>\n",
       "      <td>J</td>\n",
       "      <td>NaN</td>\n",
       "    </tr>\n",
       "    <tr>\n",
       "      <td>3</td>\n",
       "      <td>60</td>\n",
       "      <td>Studenter fordelt på alder</td>\n",
       "      <td>Antall kvinner</td>\n",
       "      <td>int</td>\n",
       "      <td>NaN</td>\n",
       "      <td>8.0</td>\n",
       "      <td></td>\n",
       "      <td></td>\n",
       "      <td>NaN</td>\n",
       "    </tr>\n",
       "    <tr>\n",
       "      <td>4</td>\n",
       "      <td>60</td>\n",
       "      <td>Studenter fordelt på alder</td>\n",
       "      <td>Antall menn</td>\n",
       "      <td>int</td>\n",
       "      <td>NaN</td>\n",
       "      <td>8.0</td>\n",
       "      <td></td>\n",
       "      <td></td>\n",
       "      <td>NaN</td>\n",
       "    </tr>\n",
       "  </tbody>\n",
       "</table>\n",
       "</div>"
      ],
      "text/plain": [
       "   Tabell id                  Tabellnavn    Variabel navn Datatype Datalengde  \\\n",
       "0         60  Studenter fordelt på alder            Alder      int        NaN   \n",
       "1         60  Studenter fordelt på alder  Andel av heltid  decimal        3,2   \n",
       "2         60  Studenter fordelt på alder    Andel praksis    float        NaN   \n",
       "3         60  Studenter fordelt på alder   Antall kvinner      int        NaN   \n",
       "4         60  Studenter fordelt på alder      Antall menn      int        NaN   \n",
       "\n",
       "   Sortering Kodefelt Group by (forslag) Kommentar  \n",
       "0        6.0                                   NaN  \n",
       "1       34.0                           J       NaN  \n",
       "2       39.0                           J       NaN  \n",
       "3        8.0                                   NaN  \n",
       "4        8.0                                   NaN  "
      ]
     },
     "execution_count": 8,
     "metadata": {},
     "output_type": "execute_result"
    }
   ],
   "source": [
    "metadata.head()"
   ]
  },
  {
   "cell_type": "markdown",
   "metadata": {},
   "source": [
    "Meta data for specific dataset"
   ]
  },
  {
   "cell_type": "code",
   "execution_count": 13,
   "metadata": {},
   "outputs": [],
   "source": [
    "meta_table_373 = metadata[metadata['Tabell id'] == 373]"
   ]
  },
  {
   "cell_type": "code",
   "execution_count": 14,
   "metadata": {},
   "outputs": [
    {
     "data": {
      "text/html": [
       "<div>\n",
       "<style scoped>\n",
       "    .dataframe tbody tr th:only-of-type {\n",
       "        vertical-align: middle;\n",
       "    }\n",
       "\n",
       "    .dataframe tbody tr th {\n",
       "        vertical-align: top;\n",
       "    }\n",
       "\n",
       "    .dataframe thead th {\n",
       "        text-align: right;\n",
       "    }\n",
       "</style>\n",
       "<table border=\"1\" class=\"dataframe\">\n",
       "  <thead>\n",
       "    <tr style=\"text-align: right;\">\n",
       "      <th></th>\n",
       "      <th>Tabell id</th>\n",
       "      <th>Tabellnavn</th>\n",
       "      <th>Variabel navn</th>\n",
       "      <th>Datatype</th>\n",
       "      <th>Datalengde</th>\n",
       "      <th>Sortering</th>\n",
       "      <th>Kodefelt</th>\n",
       "      <th>Group by (forslag)</th>\n",
       "      <th>Kommentar</th>\n",
       "    </tr>\n",
       "  </thead>\n",
       "  <tbody>\n",
       "    <tr>\n",
       "      <td>422</td>\n",
       "      <td>373</td>\n",
       "      <td>Vitenskapelig publisering</td>\n",
       "      <td>Antall publikasjoner</td>\n",
       "      <td>int</td>\n",
       "      <td>NaN</td>\n",
       "      <td>7.0</td>\n",
       "      <td></td>\n",
       "      <td></td>\n",
       "      <td>NaN</td>\n",
       "    </tr>\n",
       "    <tr>\n",
       "      <td>423</td>\n",
       "      <td>373</td>\n",
       "      <td>Vitenskapelig publisering</td>\n",
       "      <td>Avdelingskode</td>\n",
       "      <td>char</td>\n",
       "      <td>6</td>\n",
       "      <td>2.0</td>\n",
       "      <td>J</td>\n",
       "      <td>J</td>\n",
       "      <td>Kobling: 210-Avdeling</td>\n",
       "    </tr>\n",
       "    <tr>\n",
       "      <td>424</td>\n",
       "      <td>373</td>\n",
       "      <td>Vitenskapelig publisering</td>\n",
       "      <td>Forfatterandeler</td>\n",
       "      <td>decimal</td>\n",
       "      <td>9,4</td>\n",
       "      <td>9.0</td>\n",
       "      <td></td>\n",
       "      <td></td>\n",
       "      <td>NaN</td>\n",
       "    </tr>\n",
       "    <tr>\n",
       "      <td>425</td>\n",
       "      <td>373</td>\n",
       "      <td>Vitenskapelig publisering</td>\n",
       "      <td>Forfatterandeler kvinner</td>\n",
       "      <td>decimal</td>\n",
       "      <td>9,4</td>\n",
       "      <td>10.0</td>\n",
       "      <td></td>\n",
       "      <td></td>\n",
       "      <td>NaN</td>\n",
       "    </tr>\n",
       "    <tr>\n",
       "      <td>426</td>\n",
       "      <td>373</td>\n",
       "      <td>Vitenskapelig publisering</td>\n",
       "      <td>Forfatterandeler menn</td>\n",
       "      <td>decimal</td>\n",
       "      <td>NaN</td>\n",
       "      <td>10.0</td>\n",
       "      <td></td>\n",
       "      <td></td>\n",
       "      <td>NaN</td>\n",
       "    </tr>\n",
       "  </tbody>\n",
       "</table>\n",
       "</div>"
      ],
      "text/plain": [
       "     Tabell id                 Tabellnavn             Variabel navn Datatype  \\\n",
       "422        373  Vitenskapelig publisering      Antall publikasjoner      int   \n",
       "423        373  Vitenskapelig publisering             Avdelingskode     char   \n",
       "424        373  Vitenskapelig publisering          Forfatterandeler  decimal   \n",
       "425        373  Vitenskapelig publisering  Forfatterandeler kvinner  decimal   \n",
       "426        373  Vitenskapelig publisering     Forfatterandeler menn  decimal   \n",
       "\n",
       "    Datalengde  Sortering Kodefelt Group by (forslag)              Kommentar  \n",
       "422        NaN        7.0                                                NaN  \n",
       "423          6        2.0        J                  J  Kobling: 210-Avdeling  \n",
       "424        9,4        9.0                                                NaN  \n",
       "425        9,4       10.0                                                NaN  \n",
       "426        NaN       10.0                                                NaN  "
      ]
     },
     "execution_count": 14,
     "metadata": {},
     "output_type": "execute_result"
    }
   ],
   "source": [
    "meta_table_373.head()"
   ]
  },
  {
   "cell_type": "code",
   "execution_count": null,
   "metadata": {},
   "outputs": [],
   "source": []
  }
 ],
 "metadata": {
  "kernelspec": {
   "display_name": "Python 3",
   "language": "python",
   "name": "python3"
  },
  "language_info": {
   "codemirror_mode": {
    "name": "ipython",
    "version": 3
   },
   "file_extension": ".py",
   "mimetype": "text/x-python",
   "name": "python",
   "nbconvert_exporter": "python",
   "pygments_lexer": "ipython3",
   "version": "3.7.4"
  }
 },
 "nbformat": 4,
 "nbformat_minor": 2
}
